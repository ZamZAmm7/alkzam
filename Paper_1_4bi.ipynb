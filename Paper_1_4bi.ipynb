{
  "nbformat": 4,
  "nbformat_minor": 0,
  "metadata": {
    "colab": {
      "provenance": [],
      "authorship_tag": "ABX9TyOrHZ2TOu5z0LZTK/fzmWVH",
      "include_colab_link": true
    },
    "kernelspec": {
      "name": "python3",
      "display_name": "Python 3"
    },
    "language_info": {
      "name": "python"
    }
  },
  "cells": [
    {
      "cell_type": "markdown",
      "metadata": {
        "id": "view-in-github",
        "colab_type": "text"
      },
      "source": [
        "<a href=\"https://colab.research.google.com/github/ZamZAmm7/alkzam/blob/main/Paper_1_4bi.ipynb\" target=\"_parent\"><img src=\"https://colab.research.google.com/assets/colab-badge.svg\" alt=\"Open In Colab\"/></a>"
      ]
    },
    {
      "cell_type": "code",
      "source": [
        "enter = input(\"Enter Password: \")\n",
        "while len(enter) != 8 or any(char.isdigit for char in enter) == False or any(char.isupper() for char in enter) == False or any(char.islower() for char in enter) == False:\n",
        "    print(\"Password is not valid\")\n",
        "    enter = input(\"Enter Password: \")\n",
        "print(\"Password is valid\")"
      ],
      "metadata": {
        "colab": {
          "base_uri": "https://localhost:8080/"
        },
        "id": "mvz97eWvQJfQ",
        "outputId": "77a587f4-8492-48b4-9b06-6afd04ec3754"
      },
      "execution_count": null,
      "outputs": [
        {
          "output_type": "stream",
          "name": "stdout",
          "text": [
            "Enter Password: 123ABcde\n",
            "Password is valid\n"
          ]
        }
      ]
    },
    {
      "cell_type": "code",
      "source": [
        "while True:\n",
        "    enter = input(\"Enter Password: \")\n",
        "    if len(enter) != 8:\n",
        "        print(\"Password must be at least 8 characters long\")\n",
        "        enter = input(\"Enter Password: \")\n",
        "    elif any(char.isdigit() for char in enter) == False:\n",
        "        print(\"Password must contain at least one numeric character\")\n",
        "        enter = input(\"Enter Password: \")\n",
        "    elif any(char.isupper() for char in enter) == False:\n",
        "        print(\"Password must contain at least one uppercase letter\")\n",
        "        enter = input(\"Enter Password: \")\n",
        "    elif any(char.islower()for char in enter) == False:\n",
        "        print(\"Password must contain at least one lowercase letter\")\n",
        "        enter = input(\"Enter Password: \")\n",
        "    else:\n",
        "        print(\"Password is valid\")\n",
        "        break"
      ],
      "metadata": {
        "id": "-ysNF8ldJ_qJ"
      },
      "execution_count": null,
      "outputs": []
    },
    {
      "cell_type": "code",
      "source": [
        "first_word = input(\"Enter the first word: \")\n",
        "second_word = input(\"Enter the second word: \")\n",
        "new_word = \"\"\n",
        "if len(first_word) > len(second_word):\n",
        "    for char in first_word:\n",
        "        if char not in second_word:\n",
        "            new_word += \" \" + char\n",
        "elif len(first_word) < len(second_word):\n",
        "    for char in second_word:\n",
        "        if char not in first_word:\n",
        "            new_word += \" \" + char\n",
        "print(new_word[1:])"
      ],
      "metadata": {
        "colab": {
          "base_uri": "https://localhost:8080/"
        },
        "id": "dQ2nF4fVXfUn",
        "outputId": "6abe20c0-2096-4b2b-bfd2-d93d89cfccc5"
      },
      "execution_count": null,
      "outputs": [
        {
          "output_type": "stream",
          "name": "stdout",
          "text": [
            "Enter the first word: rise\n",
            "Enter the second word: trousers\n",
            "t o u\n"
          ]
        }
      ]
    },
    {
      "cell_type": "code",
      "source": [
        "def calculate_grades(average):\n",
        "    if average >= 90:\n",
        "        grade = \"Grade: A\"\n",
        "    elif average >= 80:\n",
        "        grade = \"Grade: B\"\n",
        "    elif average >= 70:\n",
        "        grade = \"Grade: C\"\n",
        "    elif average >= 60:\n",
        "        grade = \"Grade: D\"\n",
        "    elif average >= 50:\n",
        "        grade = \"Grade: E\"\n",
        "    elif average >= 0:\n",
        "        grade = \"Grade F\"\n",
        "    return grade\n",
        "\n",
        "number_subjects = input(\"Enter the number of subjects: \")\n",
        "while number_subjects.isdigit() == False:\n",
        "    print(\"Enter the NUMBER of subjects.\")\n",
        "    number_subjects = input(\"Enter the number of subjects: \")\n",
        "total = 0\n",
        "for i in range(int(number_subjects)):\n",
        "    count = i\n",
        "    marks = input(\"Enter marks for subject {}: \".format(count))\n",
        "    while marks.isdigit() == False:\n",
        "        print(\"Enter the MARKS for the subject.\")\n",
        "        marks = input(\"Enter marks for subject {}: \".format(count))\n",
        "    total += int(marks)\n",
        "average = total / int(number_subjects)\n",
        "\n",
        "print(\"Average Marks: {}\".format(average))\n",
        "print(f\"Grade {calculate_grades(average)}\")"
      ],
      "metadata": {
        "id": "HwR61kPCymWV",
        "colab": {
          "base_uri": "https://localhost:8080/"
        },
        "outputId": "bab7f0b3-b5f3-4400-d00a-eb5b92906aec"
      },
      "execution_count": null,
      "outputs": [
        {
          "output_type": "stream",
          "name": "stdout",
          "text": [
            "Enter the number of subjects: 3\n",
            "Enter marks for subject 0: 85\n",
            "Enter marks for subject 1: 78\n",
            "Enter marks for subject 2: 92\n",
            "Average Marks: 85.0\n",
            "Grade Grade: B\n"
          ]
        }
      ]
    },
    {
      "cell_type": "code",
      "source": [
        "#ATM system\n",
        "def is_positive_value(value):\n",
        "    if value.\n",
        "\n",
        "print(\"Welcome to Simple ATM\")\n",
        "print(\"\\n\\n1. Check Balance\\n2. Deposit\\n3. Withdraw\\n4. Exit\")\n",
        "\n",
        "balance = 0\n",
        "enter = input(\"\\nEnter your choice: \")\n",
        "while enter not in [\"1\",\"2\",\"3\",\"4\"]:\n",
        "    enter = input(\"Enter your choice\")\n",
        "while enter != \"4\":\n",
        "    if enter == \"1\":\n",
        "        print(f\"Your balance is ${balance:.2f}\")\n",
        "    elif enter == \"2\":\n",
        "        deposit = input(\"Enter amount to deposit: \")\n",
        "        while deposit.isdigit() == False or float(deposit) <= 0:\n",
        "            print(\"Invalid Deposit Value\")\n",
        "            deposit = input(\"Enter amount to deposit: \")\n",
        "        balance += float(deposit)\n",
        "        print(f\"Deposit successful. Your new balance is ${balance:.2f}\")\n",
        "    elif enter == \"3\":\n",
        "        withdraw = input(\"Enter amount to withdraw: \")\n",
        "        while withdraw.isdigit() == False:\n",
        "            print(\"Invalid Withdraw Value\")\n",
        "            withdraw = input(\"Enter amount to withdraw: \")\n",
        "            while float(withdraw) > balance:\n",
        "                print(\"Insufficient Funds\")\n",
        "                withdraw = input(\"Enter amount to withdraw: \")\n",
        "        balance -= float(withdraw)\n",
        "        print(f\"Withdrawal successful. Your new balance is ${balance:.2f}\")\n",
        "    enter = input(\"\\nEnter your choice: \")\n",
        "print(\"Thank you for using Simple ATM. Goodbye!\")"
      ],
      "metadata": {
        "colab": {
          "base_uri": "https://localhost:8080/"
        },
        "id": "GBfqZC8a3dtk",
        "outputId": "723bc18a-b5f9-4641-bf5a-53e148e74359"
      },
      "execution_count": null,
      "outputs": [
        {
          "output_type": "stream",
          "name": "stdout",
          "text": [
            "Welcome to Simple ATM\n",
            "\n",
            "\n",
            "1. Check Balance\n",
            "2. Deposit\n",
            "3. Withdraw\n",
            "4. Exit\n",
            "\n",
            "Enter your choice: 2\n",
            "Enter amount to deposit: 500.99\n",
            "Invalid Deposit Value\n",
            "Enter amount to deposit: 2\n",
            "Deposit successful. Your new balance is $2.00\n",
            "\n",
            "Enter your choice: 4\n",
            "Thank you for using Simple ATM. Goodbye!\n"
          ]
        }
      ]
    },
    {
      "cell_type": "code",
      "source": [
        "import rlcompleter\n",
        "import readline\n",
        "readline.parse_and_bind(\"tab: complete\")\n",
        "def special(password):\n",
        "    if any(char not in \"!@#$%^&*()\" for char in password):\n",
        "        print(\"Password must contain at least 1 special character.\")\n",
        "def length(password):\n",
        "    if len(password) != 8:\n",
        "        print(\"Password must be at least 8 characters long.\")\n",
        "def upper_case(password):\n",
        "    if any(char.isupper() == False for char in password):\n",
        "        print(\"Password must contain atleast one upper case letter.\")\n",
        "def lower_case(password):\n",
        "    if any(char.islower() == False for char in password):\n",
        "        print(\"Password must contain atleast one lower case letter.\")\n",
        "def numeric(password):\n",
        "    if any(char.isdigit() == False for char in password):\n",
        "        print(\"Password must contain atleast one numeric\")\n",
        "\n",
        "password = input(\"Enter your password: \")\n",
        "while True:\n",
        "    special(password)\n",
        "    length(password)\n",
        "    upper_case(password)\n",
        "    lower_case(password)\n",
        "    numeric(password)\n",
        "    password = input(\"Enter your Password\")"
      ],
      "metadata": {
        "colab": {
          "base_uri": "https://localhost:8080/"
        },
        "id": "VpwxmH4loLIt",
        "outputId": "a77f04b0-c53b-4f28-8334-df0c13ee7ccd"
      },
      "execution_count": null,
      "outputs": [
        {
          "output_type": "stream",
          "name": "stdout",
          "text": [
            "Enter your password: zamzinm\n",
            "Password must contain at least 1 special character.\n",
            "Password must be at least 8 characters long.\n",
            "Password must contain atleast one upper case letter.\n",
            "Password must contain atleast one numeric\n",
            "Enter your PasswordZamAla$k123\n",
            "Password must contain at least 1 special character.\n",
            "Password must be at least 8 characters long.\n",
            "Password must contain atleast one upper case letter.\n",
            "Password must contain atleast one lower case letter.\n",
            "Password must contain atleast one numeric\n"
          ]
        }
      ]
    },
    {
      "cell_type": "code",
      "source": [
        "def sum(num_1, num_2):\n",
        "    if num_1.isdigit() and num_2.isdigit():\n",
        "        return int(num_1) + int(num_2)\n",
        "\n",
        "def difference(num_1, num_2):\n",
        "    if num_1.isdigit() and num_2.isdigit():\n",
        "        return int(num_1) - int(num_2)\n",
        "\n",
        "def product(num_1, num_2):\n",
        "    if num_1.isdigit() and num_2.isdigit():\n",
        "        return int(num_1) * int(num_2)\n",
        "\n",
        "def quotient(num_1, num_2):\n",
        "    if num_1.isdigit() and num_2.isdigit():\n",
        "        if int(num_2) !=:\n",
        "            return round(int(num_1) / int(num_2), 2)\n",
        "\n",
        "num_1 = input(\"\")\n",
        "num_2 = input(\"\")\n",
        "\n",
        "print(f\"\\nSum: {sum(num_1, num_2)}\")\n",
        "print(f\"Difference: {difference(num_1, num_2)}\")\n",
        "print(f\"Product: {product(num_1, num_2)}\")\n",
        "print(f\"Quotient: {quotient(num_1, num_2)}\")"
      ],
      "metadata": {
        "colab": {
          "base_uri": "https://localhost:8080/"
        },
        "id": "HwJIAlwatliB",
        "outputId": "061b4107-bc2f-41f0-b4f0-c764a178b6b8"
      },
      "execution_count": null,
      "outputs": [
        {
          "output_type": "stream",
          "name": "stdout",
          "text": [
            "5\n",
            "3\n",
            "\n",
            "Sum: 8\n",
            "Difference: 2\n",
            "Product: 15\n",
            "Quotient: 1.67\n"
          ]
        }
      ]
    },
    {
      "cell_type": "code",
      "source": [
        "def calculate_area(length, width):\n",
        "    area = length * width\n",
        "    return area\n",
        "\n",
        "length = input(\"Enter the length: \")\n",
        "width = input(\"Enter the width: \")\n",
        "\n",
        "print(\"The area is\", calculate_area(length, width))\n"
      ],
      "metadata": {
        "id": "gE7dwej-FyCx"
      },
      "execution_count": null,
      "outputs": []
    },
    {
      "cell_type": "code",
      "source": [
        "def calculate_area(length, width):\n",
        "    area = float(length) * float(width)\n",
        "    return area\n",
        "\n",
        "length = input(\"Enter the length: \")\n",
        "while (length.replace(\".\",\"\")).isdigit() == False or float(length) <= 0 or \".\" not in length:\n",
        "    print(\"length must be a postive float number\")\n",
        "    length = input(\"Re-enter the length: \")\n",
        "width = input(\"Enter the width: \")\n",
        "while (width.replace(\".\",\"\")).isdigit() == False or float(width) <= 0 or \".\" not in width:\n",
        "    print(\"width must be a postive float number\")\n",
        "    width = input(\"Re-enter the width: \")\n",
        "\n",
        "print(\"The area is\", calculate_area(length, width))\n"
      ],
      "metadata": {
        "colab": {
          "base_uri": "https://localhost:8080/"
        },
        "id": "FPRafbrUL1Pv",
        "outputId": "6505eef0-12d9-41c6-c178-e41d6cf5ee12"
      },
      "execution_count": null,
      "outputs": [
        {
          "output_type": "stream",
          "name": "stdout",
          "text": [
            "Enter the length: 23\n",
            "length must be a postive float number\n",
            "Re-enter the length: -32.3\n",
            "length must be a postive float number\n",
            "Re-enter the length: 23.3\n",
            "Enter the width: -23.3\n",
            "width must be a postive float number\n",
            "Re-enter the width: 34.2\n",
            "The area is 796.8600000000001\n"
          ]
        }
      ]
    },
    {
      "cell_type": "code",
      "source": [
        "def small(lst):\n",
        "    if len(lst) > 1:\n",
        "        min_val = lst[0]\n",
        "        for i in lst:\n",
        "            if i < min_val:\n",
        "                min_val = i\n",
        "        return min_val\n",
        "\n",
        "lst = []\n",
        "enter = input(\"Enter item, blank to end: \")\n",
        "while enter != \"\":\n",
        "    lst.append(int(enter))\n",
        "    enter = input(\"Enter item, blank to end: \")\n",
        "\n",
        "if len(lst) > 1:\n",
        "    first = small(lst)\n",
        "    lst.remove(first)\n",
        "    second = \"\"\n",
        "    second = small(lst)\n",
        "    print(f\"{first} {second}\")\n",
        "else:\n",
        "    print(\"None\")"
      ],
      "metadata": {
        "colab": {
          "base_uri": "https://localhost:8080/"
        },
        "id": "TpRryaeYOoxx",
        "outputId": "dc1c60c7-d660-47f8-dcce-c7689ea6bcb5"
      },
      "execution_count": null,
      "outputs": [
        {
          "name": "stdout",
          "output_type": "stream",
          "text": [
            "23.3\n"
          ]
        }
      ]
    },
    {
      "cell_type": "code",
      "source": [
        "employee_id = input(\"Enter Employee ID: \")\n",
        "while employee_id.isdigit() == False or len(employee_id) != 4:\n",
        "    print(\"ID must be 4 digits\")\n",
        "    employee_id = input(\"Re-enter Employee ID: \")\n",
        "hours = input(\"Enter hours worked (0-200): \")\n",
        "while hours.isdigit() == False or int(hours) not in range(0,201): #not in range(start,stop)\n",
        "    print(\"Hours must be between 0 and 200\")\n",
        "    hours = input(\"Re-enter hours worked (0-200): \")\n",
        "wage_hour = input(\"Enter hourly wage (10-100): \")\n",
        "while wage_hour.isdigit() == False or int(wage_hour) not in range(10,101):\n",
        "    print(\"Hourly wage must be between 10 and 100\")\n",
        "    wage_hour = input(\"Re-enter hourly wage (10-100): \")\n",
        "\n",
        "salary = int(hours) * int(wage_hour)\n",
        "bonus = \"\"\n",
        "if int(hours) > 160:\n",
        "    salary += salary * 0.1\n",
        "    bonus = \"(with bonus)\"\n",
        "print(f\"\\n\\nEmployee ID: {employee_id}\")\n",
        "print(f\"Hours worked: {hours}\")\n",
        "print(f\"Hourly wage: ${wage_hour}\")\n",
        "print(f\"Total salary {bonus}: ${salary:.2f}\")"
      ],
      "metadata": {
        "colab": {
          "base_uri": "https://localhost:8080/"
        },
        "id": "Zz_cu483zi0l",
        "outputId": "c3008ac2-868f-4408-e6c9-f69fb5a40050"
      },
      "execution_count": null,
      "outputs": [
        {
          "output_type": "stream",
          "name": "stdout",
          "text": [
            "Enter Employee ID: 1024\n",
            "Enter hours worked (0-200): 175\n",
            "Enter hourly wage (10-100): 25\n",
            "\n",
            "\n",
            "Employee ID: 1024\n",
            "Hours worked: 175\n",
            "Hourly wage: $25\n",
            "Total salary (with bonus): $4812.50\n"
          ]
        }
      ]
    },
    {
      "cell_type": "code",
      "source": [
        "#ROUNDING NUMBERS TO SIGNIFICANT FIGURES\n",
        "\n",
        "enter = input(\"\")\n",
        "total = float(enter) * 3.75\n",
        "print(f\"{total:.5f}\")           # variable:.2f\n",
        "\n",
        "#NOTE ONLY APPLY TO f\"{}\" FORMAT"
      ],
      "metadata": {
        "colab": {
          "base_uri": "https://localhost:8080/"
        },
        "id": "kvPw1HwO4ub2",
        "outputId": "42d9f1ab-c4d6-4c2e-f701-776f86c226cd"
      },
      "execution_count": null,
      "outputs": [
        {
          "output_type": "stream",
          "name": "stdout",
          "text": [
            "2.222222222222\n",
            "8.33333\n"
          ]
        }
      ]
    },
    {
      "cell_type": "code",
      "source": [
        "#CHECKING RANGE\n",
        "\n",
        "    # not in / in range(start, stop)\n",
        "\n",
        "enter = int(input(\"\"))\n",
        "if enter in range(1,11):\n",
        "    print(\"Valid\")\n",
        "elif enter not in range(10,21):\n",
        "    print(\"Invalid\")"
      ],
      "metadata": {
        "colab": {
          "base_uri": "https://localhost:8080/"
        },
        "id": "6E7lPd455ZWa",
        "outputId": "af91c6be-5bf4-484f-8f09-6576be2ed4a4"
      },
      "execution_count": null,
      "outputs": [
        {
          "output_type": "stream",
          "name": "stdout",
          "text": [
            "98\n",
            "Invalid\n"
          ]
        }
      ]
    },
    {
      "cell_type": "code",
      "source": [
        "print(\"Welcome to your To-do List\")\n",
        "print(\"\\n\\n1. Add task\\n2. View tasks\\n3. Mark task as complete\\n4. Remove task\\n5. Exit\")\n",
        "tasks = []\n",
        "choice = input(\"\\n Enter your choice: \")\n",
        "chc_lst = [\"1\",\"2\",\"3\",\"4\",\"5\"]\n",
        "while choice not in chc_lst:\n",
        "    print(\"Invalid Choice\")\n",
        "    choice = input(\"Enter your choice: \")\n",
        "while choice != \"5\":\n",
        "    if choice == \"1\":\n",
        "        Task = input(\"Enter task: \")\n",
        "        tasks.append(\"- \" + Task + \" (incomplete)\")\n",
        "    elif choice == \"2\":\n",
        "        v_tasks = \"\\n\".join(tasks)\n",
        "        print(v_tasks)\n",
        "    elif choice == \"3\":\n",
        "        Task_complt = input(\"Enter task completed: \")\n",
        "        if Task_complt in tasks:\n",
        "            complt = f\"- {Task_complt} (incomplete)\"\n",
        "            index = tasks.find(complt)\n",
        "            tasks[index] == f\"- {task_complt} (complete)\"\n",
        "\n",
        "    choice = input(\"Enter your choice: \")"
      ],
      "metadata": {
        "id": "QUtX1Uryhg6S",
        "colab": {
          "base_uri": "https://localhost:8080/"
        },
        "outputId": "cf8cb31c-0234-48c3-8deb-f142e9273d12"
      },
      "execution_count": null,
      "outputs": [
        {
          "name": "stdout",
          "output_type": "stream",
          "text": [
            "Welcome to your To-do List\n",
            "\n",
            "\n",
            "1. Add task\n",
            "2. View tasks\n",
            "3. Mark task as complete\n",
            "4. Remove task\n",
            "5. Exit\n",
            "\n",
            " Enter your choice: 2\n",
            "\n",
            "Enter your choice: 1\n",
            "Enter task: buy kasm\n",
            "Enter your choice: 1\n",
            "Enter task: buy blacky\n",
            "Enter your choice: 2\n",
            "- buy kasm(incomplete)\n",
            "- buy blacky(incomplete)\n",
            "Enter your choice: 3\n",
            "Enter task completed: buy kasm\n",
            "Enter your choice: 2\n",
            "- buy kasm(incomplete)\n",
            "- buy blacky(incomplete)\n",
            "Enter your choice: 5\n"
          ]
        }
      ]
    },
    {
      "cell_type": "code",
      "source": [
        "tasks = []\n",
        "enter = input(\"Enter: \")\n",
        "while enter != \"stop\":\n",
        "    if enter == \"add\":\n",
        "        add = input(\"name: \")\n",
        "        tasks.append(f\"{add} is gay\")\n",
        "    elif enter == \"view\":\n",
        "        view = \"-\".join(tasks)\n",
        "        print(view)\n",
        "    elif enter == \"correction\":\n",
        "        enter_2 = input(\"who is not gay? \")\n",
        "        who = f\"{enter_2} is gay\"\n",
        "        for i in range(len(tasks)):\n",
        "            index = 0\n",
        "            if who == tasks[i]:\n",
        "                index = i\n",
        "                tasks[index] = f\"{enter_2} is not gay\"\n",
        "                break\n",
        "\n",
        "        print(index)\n",
        "    enter = input(\"Enter: \")"
      ],
      "metadata": {
        "colab": {
          "base_uri": "https://localhost:8080/"
        },
        "id": "BXDlCbescQhw",
        "outputId": "97a7f59d-63da-4b5d-fa7c-a9e131b59649"
      },
      "execution_count": null,
      "outputs": [
        {
          "name": "stdout",
          "output_type": "stream",
          "text": [
            "Enter: add\n",
            "name: zamzin\n",
            "Enter: view\n",
            "zamzin is gay\n",
            "Enter: correction\n",
            "who is not gay? zamzin\n",
            "0\n",
            "Enter: view\n",
            "zamzin is not gay\n",
            "Enter: stop\n"
          ]
        }
      ]
    },
    {
      "cell_type": "code",
      "source": [
        "#CHATBOT 1.0\n",
        "print(\"Welcome to chatbot! :)\")\n",
        "def check_enter(user_enter):\n",
        "    string = \"\"\n",
        "    for words in user_enter:\n",
        "        if words\n",
        "user_enter = input(\"\\n\")"
      ],
      "metadata": {
        "colab": {
          "base_uri": "https://localhost:8080/"
        },
        "id": "KRjM_abpcmh2",
        "outputId": "9745b794-1a06-483d-bf4a-d0d0b6e34035"
      },
      "execution_count": null,
      "outputs": [
        {
          "output_type": "stream",
          "name": "stdout",
          "text": [
            "\n",
            "1. zamzin\n"
          ]
        }
      ]
    },
    {
      "cell_type": "code",
      "source": [
        "# Install flask and flask-ngrok to run Flask app in Colab\n",
        "!pip install flask-ngrok\n",
        "\n",
        "# Import necessary libraries\n",
        "from flask import Flask\n",
        "from flask_ngrok import run_with_ngrok\n",
        "\n",
        "# Initialize the Flask app\n",
        "app = Flask(__name__)\n",
        "run_with_ngrok(app)  # Allows the app to be accessible publicly via ngrok\n",
        "\n",
        "# Define a simple route\n",
        "@app.route('/')\n",
        "def home():\n",
        "    return \"Welcome to My Flask App on Colab!\"\n",
        "\n",
        "# Run the app\n",
        "if __name__ == '__main__':\n",
        "    app.run()\n",
        "\n",
        "def list_words(tasks):\n",
        "    task = \"\"\n",
        "    for tsk in tasks:\n",
        "        task += f\"\\n{tsk}\"\n",
        "    return task\n",
        "\n",
        "tasks = []\n",
        "chc_lst = [\"1\",\"2\",\"3\",\"4\",\"5\"]\n",
        "print(\"\\n\\n1. Add task\\n2. View tasks\\n3. Mark task as complete\\n4. Remove task\")\n",
        "choice = input(\"\\nEnter choice (enter stop to stop): \").lower()\n",
        "while choice != \"stop\":\n",
        "    if choice == \"1\":\n",
        "        add_task = input(\"Enter Task: \")\n",
        "        tasks.append(f\"- {add_task} (incomplete)\")\n",
        "    elif choice == \"2\":\n",
        "        print(list_words(tasks))\n",
        "    elif choice == \"3\":\n",
        "        tsk_complete = input(\"Enter task completed: \")\n",
        "        TF = False\n",
        "        for i in range(len(tasks)):\n",
        "            index = 0\n",
        "            if f\"- {tsk_complete} (incomplete)\" == tasks[i]:\n",
        "                index = i\n",
        "                tasks[index] = f\"- {tsk_complete} (completed)\"\n",
        "                TF = True\n",
        "                break\n",
        "        if TF == False:\n",
        "            print(\"Task not found\")\n",
        "    elif choice == \"4\":\n",
        "        print(list_words(tasks))\n",
        "        rem_tsk = input(\"Enter task to remove: \")\n",
        "        for i in range(len(tasks)):\n",
        "            if f\"- {rem_tsk} (completed)\" == tasks[i] or f\"- {rem_tsk} (incomplete)\" == tasks[i]:\n",
        "                print(\"Task found, removed successfully\")\n",
        "                tasks.remove(tasks[i])\n",
        "                break\n",
        "    choice = input(\"\\nEnter choice (enter stop to stop): \").lower()"
      ],
      "metadata": {
        "colab": {
          "base_uri": "https://localhost:8080/",
          "height": 1000
        },
        "id": "ZW8JBOk9ciS9",
        "outputId": "5f683a93-a98f-41e6-c88d-2d80ab6f9f9a"
      },
      "execution_count": null,
      "outputs": [
        {
          "output_type": "stream",
          "name": "stdout",
          "text": [
            "Collecting flask-ngrok\n",
            "  Downloading flask_ngrok-0.0.25-py3-none-any.whl.metadata (1.8 kB)\n",
            "Requirement already satisfied: Flask>=0.8 in /usr/local/lib/python3.10/dist-packages (from flask-ngrok) (2.2.5)\n",
            "Requirement already satisfied: requests in /usr/local/lib/python3.10/dist-packages (from flask-ngrok) (2.32.3)\n",
            "Requirement already satisfied: Werkzeug>=2.2.2 in /usr/local/lib/python3.10/dist-packages (from Flask>=0.8->flask-ngrok) (3.0.4)\n",
            "Requirement already satisfied: Jinja2>=3.0 in /usr/local/lib/python3.10/dist-packages (from Flask>=0.8->flask-ngrok) (3.1.4)\n",
            "Requirement already satisfied: itsdangerous>=2.0 in /usr/local/lib/python3.10/dist-packages (from Flask>=0.8->flask-ngrok) (2.2.0)\n",
            "Requirement already satisfied: click>=8.0 in /usr/local/lib/python3.10/dist-packages (from Flask>=0.8->flask-ngrok) (8.1.7)\n",
            "Requirement already satisfied: charset-normalizer<4,>=2 in /usr/local/lib/python3.10/dist-packages (from requests->flask-ngrok) (3.3.2)\n",
            "Requirement already satisfied: idna<4,>=2.5 in /usr/local/lib/python3.10/dist-packages (from requests->flask-ngrok) (3.10)\n",
            "Requirement already satisfied: urllib3<3,>=1.21.1 in /usr/local/lib/python3.10/dist-packages (from requests->flask-ngrok) (2.0.7)\n",
            "Requirement already satisfied: certifi>=2017.4.17 in /usr/local/lib/python3.10/dist-packages (from requests->flask-ngrok) (2024.8.30)\n",
            "Requirement already satisfied: MarkupSafe>=2.0 in /usr/local/lib/python3.10/dist-packages (from Jinja2>=3.0->Flask>=0.8->flask-ngrok) (2.1.5)\n",
            "Downloading flask_ngrok-0.0.25-py3-none-any.whl (3.1 kB)\n",
            "Installing collected packages: flask-ngrok\n",
            "Successfully installed flask-ngrok-0.0.25\n",
            " * Serving Flask app '__main__'\n",
            " * Debug mode: off\n"
          ]
        },
        {
          "output_type": "stream",
          "name": "stderr",
          "text": [
            "INFO:werkzeug:\u001b[31m\u001b[1mWARNING: This is a development server. Do not use it in a production deployment. Use a production WSGI server instead.\u001b[0m\n",
            " * Running on http://127.0.0.1:5000\n",
            "INFO:werkzeug:\u001b[33mPress CTRL+C to quit\u001b[0m\n",
            "Exception in thread Thread-10:\n",
            "Traceback (most recent call last):\n",
            "  File \"/usr/local/lib/python3.10/dist-packages/urllib3/connection.py\", line 203, in _new_conn\n",
            "    sock = connection.create_connection(\n",
            "  File \"/usr/local/lib/python3.10/dist-packages/urllib3/util/connection.py\", line 85, in create_connection\n",
            "    raise err\n",
            "  File \"/usr/local/lib/python3.10/dist-packages/urllib3/util/connection.py\", line 73, in create_connection\n",
            "    sock.connect(sa)\n",
            "ConnectionRefusedError: [Errno 111] Connection refused\n",
            "\n",
            "The above exception was the direct cause of the following exception:\n",
            "\n",
            "Traceback (most recent call last):\n",
            "  File \"/usr/local/lib/python3.10/dist-packages/urllib3/connectionpool.py\", line 791, in urlopen\n",
            "    response = self._make_request(\n",
            "  File \"/usr/local/lib/python3.10/dist-packages/urllib3/connectionpool.py\", line 497, in _make_request\n",
            "    conn.request(\n",
            "  File \"/usr/local/lib/python3.10/dist-packages/urllib3/connection.py\", line 395, in request\n",
            "    self.endheaders()\n",
            "  File \"/usr/lib/python3.10/http/client.py\", line 1278, in endheaders\n",
            "    self._send_output(message_body, encode_chunked=encode_chunked)\n",
            "  File \"/usr/lib/python3.10/http/client.py\", line 1038, in _send_output\n",
            "    self.send(msg)\n",
            "  File \"/usr/lib/python3.10/http/client.py\", line 976, in send\n",
            "    self.connect()\n",
            "  File \"/usr/local/lib/python3.10/dist-packages/urllib3/connection.py\", line 243, in connect\n",
            "    self.sock = self._new_conn()\n",
            "  File \"/usr/local/lib/python3.10/dist-packages/urllib3/connection.py\", line 218, in _new_conn\n",
            "    raise NewConnectionError(\n",
            "urllib3.exceptions.NewConnectionError: <urllib3.connection.HTTPConnection object at 0x7c4a2d5b03d0>: Failed to establish a new connection: [Errno 111] Connection refused\n",
            "\n",
            "The above exception was the direct cause of the following exception:\n",
            "\n",
            "Traceback (most recent call last):\n",
            "  File \"/usr/local/lib/python3.10/dist-packages/requests/adapters.py\", line 667, in send\n",
            "    resp = conn.urlopen(\n",
            "  File \"/usr/local/lib/python3.10/dist-packages/urllib3/connectionpool.py\", line 845, in urlopen\n",
            "    retries = retries.increment(\n",
            "  File \"/usr/local/lib/python3.10/dist-packages/urllib3/util/retry.py\", line 515, in increment\n",
            "    raise MaxRetryError(_pool, url, reason) from reason  # type: ignore[arg-type]\n",
            "urllib3.exceptions.MaxRetryError: HTTPConnectionPool(host='localhost', port=4040): Max retries exceeded with url: /api/tunnels (Caused by NewConnectionError('<urllib3.connection.HTTPConnection object at 0x7c4a2d5b03d0>: Failed to establish a new connection: [Errno 111] Connection refused'))\n",
            "\n",
            "During handling of the above exception, another exception occurred:\n",
            "\n",
            "Traceback (most recent call last):\n",
            "  File \"/usr/lib/python3.10/threading.py\", line 1016, in _bootstrap_inner\n",
            "    self.run()\n",
            "  File \"/usr/lib/python3.10/threading.py\", line 1378, in run\n",
            "    self.function(*self.args, **self.kwargs)\n",
            "  File \"/usr/local/lib/python3.10/dist-packages/flask_ngrok.py\", line 70, in start_ngrok\n",
            "    ngrok_address = _run_ngrok()\n",
            "  File \"/usr/local/lib/python3.10/dist-packages/flask_ngrok.py\", line 35, in _run_ngrok\n",
            "    tunnel_url = requests.get(localhost_url).text  # Get the tunnel information\n",
            "  File \"/usr/local/lib/python3.10/dist-packages/requests/api.py\", line 73, in get\n",
            "    return request(\"get\", url, params=params, **kwargs)\n",
            "  File \"/usr/local/lib/python3.10/dist-packages/requests/api.py\", line 59, in request\n",
            "    return session.request(method=method, url=url, **kwargs)\n",
            "  File \"/usr/local/lib/python3.10/dist-packages/requests/sessions.py\", line 589, in request\n",
            "    resp = self.send(prep, **send_kwargs)\n",
            "  File \"/usr/local/lib/python3.10/dist-packages/requests/sessions.py\", line 703, in send\n",
            "    r = adapter.send(request, **kwargs)\n",
            "  File \"/usr/local/lib/python3.10/dist-packages/requests/adapters.py\", line 700, in send\n",
            "    raise ConnectionError(e, request=request)\n",
            "requests.exceptions.ConnectionError: HTTPConnectionPool(host='localhost', port=4040): Max retries exceeded with url: /api/tunnels (Caused by NewConnectionError('<urllib3.connection.HTTPConnection object at 0x7c4a2d5b03d0>: Failed to establish a new connection: [Errno 111] Connection refused'))\n"
          ]
        },
        {
          "output_type": "stream",
          "name": "stdout",
          "text": [
            "\n",
            "\n",
            "1. Add task\n",
            "2. View tasks\n",
            "3. Mark task as complete\n",
            "4. Remove task\n"
          ]
        },
        {
          "output_type": "error",
          "ename": "KeyboardInterrupt",
          "evalue": "Interrupted by user",
          "traceback": [
            "\u001b[0;31m---------------------------------------------------------------------------\u001b[0m",
            "\u001b[0;31mKeyboardInterrupt\u001b[0m                         Traceback (most recent call last)",
            "\u001b[0;32m<ipython-input-3-1ff52d630667>\u001b[0m in \u001b[0;36m<cell line: 30>\u001b[0;34m()\u001b[0m\n\u001b[1;32m     28\u001b[0m \u001b[0mchc_lst\u001b[0m \u001b[0;34m=\u001b[0m \u001b[0;34m[\u001b[0m\u001b[0;34m\"1\"\u001b[0m\u001b[0;34m,\u001b[0m\u001b[0;34m\"2\"\u001b[0m\u001b[0;34m,\u001b[0m\u001b[0;34m\"3\"\u001b[0m\u001b[0;34m,\u001b[0m\u001b[0;34m\"4\"\u001b[0m\u001b[0;34m,\u001b[0m\u001b[0;34m\"5\"\u001b[0m\u001b[0;34m]\u001b[0m\u001b[0;34m\u001b[0m\u001b[0;34m\u001b[0m\u001b[0m\n\u001b[1;32m     29\u001b[0m \u001b[0mprint\u001b[0m\u001b[0;34m(\u001b[0m\u001b[0;34m\"\\n\\n1. Add task\\n2. View tasks\\n3. Mark task as complete\\n4. Remove task\"\u001b[0m\u001b[0;34m)\u001b[0m\u001b[0;34m\u001b[0m\u001b[0;34m\u001b[0m\u001b[0m\n\u001b[0;32m---> 30\u001b[0;31m \u001b[0mchoice\u001b[0m \u001b[0;34m=\u001b[0m \u001b[0minput\u001b[0m\u001b[0;34m(\u001b[0m\u001b[0;34m\"\\nEnter choice (enter stop to stop): \"\u001b[0m\u001b[0;34m)\u001b[0m\u001b[0;34m.\u001b[0m\u001b[0mlower\u001b[0m\u001b[0;34m(\u001b[0m\u001b[0;34m)\u001b[0m\u001b[0;34m\u001b[0m\u001b[0;34m\u001b[0m\u001b[0m\n\u001b[0m\u001b[1;32m     31\u001b[0m \u001b[0;32mwhile\u001b[0m \u001b[0mchoice\u001b[0m \u001b[0;34m!=\u001b[0m \u001b[0;34m\"stop\"\u001b[0m\u001b[0;34m:\u001b[0m\u001b[0;34m\u001b[0m\u001b[0;34m\u001b[0m\u001b[0m\n\u001b[1;32m     32\u001b[0m     \u001b[0;32mif\u001b[0m \u001b[0mchoice\u001b[0m \u001b[0;34m==\u001b[0m \u001b[0;34m\"1\"\u001b[0m\u001b[0;34m:\u001b[0m\u001b[0;34m\u001b[0m\u001b[0;34m\u001b[0m\u001b[0m\n",
            "\u001b[0;32m/usr/local/lib/python3.10/dist-packages/ipykernel/kernelbase.py\u001b[0m in \u001b[0;36mraw_input\u001b[0;34m(self, prompt)\u001b[0m\n\u001b[1;32m    849\u001b[0m                 \u001b[0;34m\"raw_input was called, but this frontend does not support input requests.\"\u001b[0m\u001b[0;34m\u001b[0m\u001b[0;34m\u001b[0m\u001b[0m\n\u001b[1;32m    850\u001b[0m             )\n\u001b[0;32m--> 851\u001b[0;31m         return self._input_request(str(prompt),\n\u001b[0m\u001b[1;32m    852\u001b[0m             \u001b[0mself\u001b[0m\u001b[0;34m.\u001b[0m\u001b[0m_parent_ident\u001b[0m\u001b[0;34m,\u001b[0m\u001b[0;34m\u001b[0m\u001b[0;34m\u001b[0m\u001b[0m\n\u001b[1;32m    853\u001b[0m             \u001b[0mself\u001b[0m\u001b[0;34m.\u001b[0m\u001b[0m_parent_header\u001b[0m\u001b[0;34m,\u001b[0m\u001b[0;34m\u001b[0m\u001b[0;34m\u001b[0m\u001b[0m\n",
            "\u001b[0;32m/usr/local/lib/python3.10/dist-packages/ipykernel/kernelbase.py\u001b[0m in \u001b[0;36m_input_request\u001b[0;34m(self, prompt, ident, parent, password)\u001b[0m\n\u001b[1;32m    893\u001b[0m             \u001b[0;32mexcept\u001b[0m \u001b[0mKeyboardInterrupt\u001b[0m\u001b[0;34m:\u001b[0m\u001b[0;34m\u001b[0m\u001b[0;34m\u001b[0m\u001b[0m\n\u001b[1;32m    894\u001b[0m                 \u001b[0;31m# re-raise KeyboardInterrupt, to truncate traceback\u001b[0m\u001b[0;34m\u001b[0m\u001b[0;34m\u001b[0m\u001b[0m\n\u001b[0;32m--> 895\u001b[0;31m                 \u001b[0;32mraise\u001b[0m \u001b[0mKeyboardInterrupt\u001b[0m\u001b[0;34m(\u001b[0m\u001b[0;34m\"Interrupted by user\"\u001b[0m\u001b[0;34m)\u001b[0m \u001b[0;32mfrom\u001b[0m \u001b[0;32mNone\u001b[0m\u001b[0;34m\u001b[0m\u001b[0;34m\u001b[0m\u001b[0m\n\u001b[0m\u001b[1;32m    896\u001b[0m             \u001b[0;32mexcept\u001b[0m \u001b[0mException\u001b[0m \u001b[0;32mas\u001b[0m \u001b[0me\u001b[0m\u001b[0;34m:\u001b[0m\u001b[0;34m\u001b[0m\u001b[0;34m\u001b[0m\u001b[0m\n\u001b[1;32m    897\u001b[0m                 \u001b[0mself\u001b[0m\u001b[0;34m.\u001b[0m\u001b[0mlog\u001b[0m\u001b[0;34m.\u001b[0m\u001b[0mwarning\u001b[0m\u001b[0;34m(\u001b[0m\u001b[0;34m\"Invalid Message:\"\u001b[0m\u001b[0;34m,\u001b[0m \u001b[0mexc_info\u001b[0m\u001b[0;34m=\u001b[0m\u001b[0;32mTrue\u001b[0m\u001b[0;34m)\u001b[0m\u001b[0;34m\u001b[0m\u001b[0;34m\u001b[0m\u001b[0m\n",
            "\u001b[0;31mKeyboardInterrupt\u001b[0m: Interrupted by user"
          ]
        }
      ]
    }
  ]
}